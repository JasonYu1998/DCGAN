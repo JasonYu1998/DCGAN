{
  "nbformat": 4,
  "nbformat_minor": 0,
  "metadata": {
    "colab": {
      "name": "DCGAN.ipynb",
      "provenance": []
    },
    "kernelspec": {
      "name": "python3",
      "display_name": "Python 3"
    },
    "language_info": {
      "name": "python"
    },
    "accelerator": "GPU"
  },
  "cells": [
    {
      "cell_type": "code",
      "metadata": {
        "colab": {
          "base_uri": "https://localhost:8080/"
        },
        "id": "UE7DGIjA6Cjb",
        "outputId": "b4195f48-d5a7-4d4d-ab02-5e78bf2dce4f"
      },
      "source": [
        "cd /content/drive/MyDrive/Colab Notebooks/DCGAN"
      ],
      "execution_count": null,
      "outputs": [
        {
          "output_type": "stream",
          "name": "stdout",
          "text": [
            "/content/drive/MyDrive/Colab Notebooks/DCGAN\n"
          ]
        }
      ]
    },
    {
      "cell_type": "code",
      "metadata": {
        "id": "kPFUBwnp6VLb"
      },
      "source": [
        "from __future__ import absolute_import, division, print_function"
      ],
      "execution_count": null,
      "outputs": []
    },
    {
      "cell_type": "code",
      "metadata": {
        "colab": {
          "base_uri": "https://localhost:8080/",
          "height": 35
        },
        "id": "zEpvxRr-CbGj",
        "outputId": "7a77ea17-5494-4183-a022-7a7d0f992516"
      },
      "source": [
        "import tensorflow as tf\n",
        "tf.__version__"
      ],
      "execution_count": null,
      "outputs": [
        {
          "output_type": "execute_result",
          "data": {
            "application/vnd.google.colaboratory.intrinsic+json": {
              "type": "string"
            },
            "text/plain": [
              "'2.6.0'"
            ]
          },
          "metadata": {},
          "execution_count": 3
        }
      ]
    },
    {
      "cell_type": "code",
      "metadata": {
        "id": "e2_ZruTMC7XJ"
      },
      "source": [
        "import glob # The glob module finds all the pathnames matching a specified pattern according to the rules used by the Unix shell, although results are returned in arbitrary order. \n",
        "import imageio # Imageio is a Python library that provides an easy interface to read and write a wide range of image data, including animated images, volumetric data, and scientific formats. \n",
        "%matplotlib inline \n",
        "import matplotlib.pyplot as plt \n",
        "import numpy as np\n",
        "import os # This module provides a portable way of using operating system dependent functionality. \n",
        "import PIL # DescriptionPython Imaging Library is a free library for the Python programming language that adds support for opening, manipulating, and saving many different image file formats.\n",
        "import tensorflow.keras.layers as layers # Keras layers API\n",
        "import time\n",
        "from IPython import display # For displaying image"
      ],
      "execution_count": null,
      "outputs": []
    },
    {
      "cell_type": "code",
      "metadata": {
        "colab": {
          "base_uri": "https://localhost:8080/"
        },
        "id": "rLy_3CkbC_Br",
        "outputId": "e16fdd82-b135-4e13-8132-93216c681be1"
      },
      "source": [
        "# Check if we're using a GPU device\n",
        "# See what GPU we're using \n",
        "from tensorflow.python.client import device_lib\n",
        "\n",
        "device_lib.list_local_devices()[-1]"
      ],
      "execution_count": null,
      "outputs": [
        {
          "output_type": "execute_result",
          "data": {
            "text/plain": [
              "name: \"/device:GPU:0\"\n",
              "device_type: \"GPU\"\n",
              "memory_limit: 11345264640\n",
              "locality {\n",
              "  bus_id: 1\n",
              "  links {\n",
              "  }\n",
              "}\n",
              "incarnation: 13845700934489321900\n",
              "physical_device_desc: \"device: 0, name: Tesla K80, pci bus id: 0000:00:04.0, compute capability: 3.7\""
            ]
          },
          "metadata": {},
          "execution_count": 5
        }
      ]
    },
    {
      "cell_type": "code",
      "metadata": {
        "id": "L6XiErFVDClb"
      },
      "source": [
        "# Files will be located in \"/content/drive/My Drive\"\n",
        "import os"
      ],
      "execution_count": null,
      "outputs": []
    },
    {
      "cell_type": "code",
      "metadata": {
        "id": "BfT9ZvXNEWvC"
      },
      "source": [
        "# image location\n",
        "image_directory = os.getcwd() + \"/images/\""
      ],
      "execution_count": null,
      "outputs": []
    },
    {
      "cell_type": "code",
      "metadata": {
        "colab": {
          "base_uri": "https://localhost:8080/",
          "height": 35
        },
        "id": "TeR5j4FFftVp",
        "outputId": "0e3207fa-c2ea-41b2-9c81-9c6a77686b0f"
      },
      "source": [
        "image_directory"
      ],
      "execution_count": null,
      "outputs": [
        {
          "output_type": "execute_result",
          "data": {
            "application/vnd.google.colaboratory.intrinsic+json": {
              "type": "string"
            },
            "text/plain": [
              "'/content/drive/MyDrive/Colab Notebooks/DCGAN/images/'"
            ]
          },
          "metadata": {},
          "execution_count": 10
        }
      ]
    },
    {
      "cell_type": "code",
      "metadata": {
        "colab": {
          "base_uri": "https://localhost:8080/"
        },
        "id": "x_8DUQHDEYVE",
        "outputId": "b3f3daf3-7486-4b1c-84b1-dbaff539abfe"
      },
      "source": [
        "what = os.listdir(image_directory) # dir is your directory path\n",
        "number_files = len(what)\n",
        "print (number_files)"
      ],
      "execution_count": null,
      "outputs": [
        {
          "output_type": "stream",
          "name": "stdout",
          "text": [
            "44122\n"
          ]
        }
      ]
    },
    {
      "cell_type": "code",
      "metadata": {
        "id": "jSco31vFOAYo"
      },
      "source": [
        "# Helper function to load image\n",
        "import cv2\n",
        "def load_image( infilename ) :\n",
        "    img = cv2.imread( infilename )\n",
        "    data = np.asarray( img, dtype=\"int32\" )\n",
        "    return data"
      ],
      "execution_count": null,
      "outputs": []
    },
    {
      "cell_type": "code",
      "metadata": {
        "id": "YB7bi1HydUHd"
      },
      "source": [
        "# load the celebA data\n",
        "test = load_image(image_directory + \"Non-occ90.bmp\")"
      ],
      "execution_count": null,
      "outputs": []
    },
    {
      "cell_type": "code",
      "metadata": {
        "colab": {
          "base_uri": "https://localhost:8080/"
        },
        "id": "6ovWUw5TdWJq",
        "outputId": "55572ca0-2ffd-463a-f70e-48e0104c12a1"
      },
      "source": [
        "test.shape\n"
      ],
      "execution_count": null,
      "outputs": [
        {
          "output_type": "execute_result",
          "data": {
            "text/plain": [
              "(64, 64, 3)"
            ]
          },
          "metadata": {},
          "execution_count": 14
        }
      ]
    },
    {
      "cell_type": "code",
      "metadata": {
        "colab": {
          "base_uri": "https://localhost:8080/",
          "height": 268
        },
        "id": "JI19VViedX4b",
        "outputId": "bbf936de-ab08-4a08-999e-2607a792496a"
      },
      "source": [
        "plt.imshow(test, interpolation='nearest')\n",
        "plt.show()"
      ],
      "execution_count": null,
      "outputs": [
        {
          "output_type": "display_data",
          "data": {
            "image/png": "[encoded data removed]",
            "text/plain": [
              "<Figure size 432x288 with 1 Axes>"
            ]
          },
          "metadata": {
            "needs_background": "light"
          }
        }
      ]
    },
    {
      "cell_type": "code",
      "metadata": {
        "id": "b7BQCfu4daOv"
      },
      "source": [
        "files = os.listdir(image_directory)\n",
        "train_images = []\n",
        "for name in files:\n",
        "    train_images.append(name)"
      ],
      "execution_count": null,
      "outputs": []
    },
    {
      "cell_type": "code",
      "metadata": {
        "id": "2lvx_FxoeI_T"
      },
      "source": [
        "# helper function to load images into an array\n",
        "def load_images(file_names):\n",
        "  data = []\n",
        "  for name in file_names:\n",
        "    data.append(load_image(image_directory + name))\n",
        "  \n",
        "  data = np.array(data)\n",
        "  \n",
        "  return data"
      ],
      "execution_count": null,
      "outputs": []
    },
    {
      "cell_type": "code",
      "metadata": {
        "colab": {
          "base_uri": "https://localhost:8080/"
        },
        "id": "-HlceBRceOSx",
        "outputId": "7ebde6bd-84ea-4e4c-f609-6a435d37bbcb"
      },
      "source": [
        "test[0][0]"
      ],
      "execution_count": null,
      "outputs": [
        {
          "output_type": "execute_result",
          "data": {
            "text/plain": [
              "array([16, 16, 16], dtype=int32)"
            ]
          },
          "metadata": {},
          "execution_count": 18
        }
      ]
    },
    {
      "cell_type": "code",
      "metadata": {
        "id": "Jtocx4B-eSzL"
      },
      "source": [
        "BUFFER_SIZE = 44100 # number of images in training i think\n",
        "BATCH_SIZE = 100 # This is just the standard number for batch size. Google for more info"
      ],
      "execution_count": null,
      "outputs": []
    },
    {
      "cell_type": "code",
      "metadata": {
        "id": "VpF_RcfkeaVx"
      },
      "source": [
        "\n",
        "# Shuffle and Batch the data\n",
        "#train_dataset = tf.data.Dataset.from_tensor_slices(train_images).shuffle(BUFFER_SIZE).batch(BATCH_SIZE)\n",
        "train_images = np.array(train_images)\n",
        "np.random.shuffle(train_images)\n",
        "train_images = np.split(train_images[:BUFFER_SIZE],BATCH_SIZE)"
      ],
      "execution_count": null,
      "outputs": []
    },
    {
      "cell_type": "markdown",
      "metadata": {
        "id": "A1W8ulqcefOV"
      },
      "source": [
        "create model"
      ]
    },
    {
      "cell_type": "code",
      "metadata": {
        "id": "Hn9opIvtehZ8"
      },
      "source": [
        "def make_generator_model():\n",
        "  # In Keras, you assemble layers to build models. A model is (usually) a graph of layers. The most common type of model is a stack of layers\n",
        "  model = tf.keras.Sequential()\n",
        "  \n",
        "  \"\"\"\n",
        "  Add a densely-connected layer to the model\n",
        "  the model will take as input arrays of shape (*, 100).\n",
        "  And and output arrays of shape (*, 7*7*256)\n",
        "  \n",
        "  after the first layer, you don't need to specify the size of the input anymore\n",
        "  Afterwards, we do automatic shape inference\n",
        "  \"\"\"\n",
        "  model.add(layers.Dense(4*4*1024, use_bias = False, input_shape = (100,)))\n",
        "  \n",
        "  \"\"\"\n",
        "  You can think about batch normalization as doing preprocessing at every layer of the network.\n",
        "  Accelerating Deep Network Training by Reducing Internal Covariate Shift\n",
        "  \"\"\"\n",
        "  model.add(layers.BatchNormalization())\n",
        "  \n",
        "  \"\"\"\n",
        "  ReLU is linear (identity) for all positive values, and zero for all negative values. \n",
        "  Leaky ReLU has a small slope for negative values, instead of altogether zero. For example, leaky ReLU may have y = 0.01x when x < 0\n",
        "  \"\"\"\n",
        "  model.add(layers.LeakyReLU())\n",
        "  \n",
        "  # reshape the output from something flattened to something with a shape of (7,7,256)\n",
        "  model.add(layers.Reshape(( 4, 4, 1024)))\n",
        "  #print(model.output_shape)\n",
        "  #print(\"here 1\")\n",
        "  assert model.output_shape == (None, 4, 4, 1024) # Note: None is the batch size\n",
        "    \n",
        "  \"\"\"\n",
        "  The generator uses a transposed convolutional layer (Upsampling) layers to produce an image from seed (random noise).\n",
        "  \n",
        "  128 is the dimensionality of the output space\n",
        "  (5,5) specifies the height and width of the 2D convolution window\n",
        "  strides = (1,1) specifies the strides of the convolution along the height and width \n",
        "  \n",
        "  \"\"\"\n",
        "  model.add(layers.Conv2DTranspose(512, (5, 5), strides = (2,2), padding = \"same\", use_bias = False))\n",
        "  #print(model.output_shape)\n",
        "  #print(\"here2\")\n",
        "  assert model.output_shape == (None, 8, 8, 512)\n",
        "  model.add(layers.BatchNormalization())\n",
        "  model.add(layers.LeakyReLU())\n",
        "  \n",
        "  # Another transposed convolutional layer (upsampling)\n",
        "  #print(\"here3\")\n",
        "  model.add(layers.Conv2DTranspose(256, (5,5), strides = (2,2), padding = \"same\", use_bias = False))\n",
        "  #print(\"here4\")\n",
        "  assert model.output_shape == (None, 16, 16, 256)\n",
        "  model.add(layers.BatchNormalization())\n",
        "  model.add(layers.LeakyReLU())\n",
        "  \n",
        "  # Another transposed convolutional layer (upsampling)\n",
        "  #print(\"here4\")\n",
        "  model.add(layers.Conv2DTranspose(128, (5,5), strides = (2,2), padding = \"same\", use_bias = False))\n",
        "  #print(\"here5\")\n",
        "  assert model.output_shape == (None, 32, 32, 128)\n",
        "  model.add(layers.BatchNormalization())\n",
        "  model.add(layers.LeakyReLU())\n",
        "  \n",
        "  # Final output layer also a convolutional layer (upsampling), tanh goes from -1 to 1\n",
        "  #print(\"here6\")\n",
        "  model.add(layers.Conv2DTranspose(3, (5,5), strides = (2,2), padding = \"same\", use_bias = False, activation = \"tanh\"))\n",
        "  #print(\"here7\")\n",
        "\n",
        "  \n",
        "  print(model.output_shape)\n",
        "  assert model.output_shape == (None, 64, 64, 3)\n",
        "  \n",
        "  \n",
        "  return model"
      ],
      "execution_count": null,
      "outputs": []
    },
    {
      "cell_type": "code",
      "metadata": {
        "colab": {
          "base_uri": "https://localhost:8080/",
          "height": 302
        },
        "id": "cfqh-LK8e0SO",
        "outputId": "bdd67168-687b-44c3-a142-de7dbe808763"
      },
      "source": [
        "generator = make_generator_model()\n",
        "\n",
        "noise = tf.random.normal([1,100]) # shape is 1, 100\n",
        "generated_image = generator(noise, training = False)\n",
        "\n",
        "plt.imshow(generated_image[0, :, :, 0], cmap =\"gist_rainbow\")"
      ],
      "execution_count": null,
      "outputs": [
        {
          "output_type": "stream",
          "name": "stdout",
          "text": [
            "(None, 64, 64, 3)\n"
          ]
        },
        {
          "output_type": "execute_result",
          "data": {
            "text/plain": [
              "<matplotlib.image.AxesImage at 0x7f8ff5143bd0>"
            ]
          },
          "metadata": {},
          "execution_count": 22
        },
        {
          "output_type": "display_data",
          "data": {
            "image/png": "[encoded data removed]",
            "text/plain": [
              "<Figure size 432x288 with 1 Axes>"
            ]
          },
          "metadata": {
            "needs_background": "light"
          }
        }
      ]
    },
    {
      "cell_type": "code",
      "metadata": {
        "colab": {
          "base_uri": "https://localhost:8080/"
        },
        "id": "Wvqz81dze2aW",
        "outputId": "6d8540d1-bea9-41d4-e55d-987043965820"
      },
      "source": [
        "type(generated_image[0, :, :, 0])"
      ],
      "execution_count": null,
      "outputs": [
        {
          "output_type": "execute_result",
          "data": {
            "text/plain": [
              "tensorflow.python.framework.ops.EagerTensor"
            ]
          },
          "metadata": {},
          "execution_count": 23
        }
      ]
    },
    {
      "cell_type": "code",
      "metadata": {
        "id": "W9nof-d6fA7_"
      },
      "source": [
        "def make_discriminator_model():\n",
        "    model = tf.keras.Sequential()\n",
        "    model.add(layers.Conv2D(64, (5, 5), strides=(2, 2), padding='same', \n",
        "                                     input_shape=[64, 64, 3]))\n",
        "    model.add(layers.LeakyReLU())\n",
        "    model.add(layers.Dropout(0.3)) # Dropout consists in randomly setting a fraction rate of input units to 0 at each update during training time, which helps prevent overfitting.\n",
        "      \n",
        "    model.add(layers.Conv2D(128, (5, 5), strides=(2, 2), padding='same'))\n",
        "    model.add(layers.LeakyReLU())\n",
        "    model.add(layers.Dropout(0.3))\n",
        "    \n",
        "    \"\"\"\n",
        "    Flattens the input. Does not affect the batch size.\n",
        "    If inputs are shaped (batch,) without a channel dimension, then flattening adds an extra channel dimension and output shapes are (batch, 1).\n",
        "    \"\"\"\n",
        "    model.add(layers.Flatten())\n",
        "    model.add(layers.Dense(1))\n",
        "     \n",
        "    return model"
      ],
      "execution_count": null,
      "outputs": []
    },
    {
      "cell_type": "code",
      "metadata": {
        "colab": {
          "base_uri": "https://localhost:8080/"
        },
        "id": "z6hebOZofECM",
        "outputId": "20e238db-8ff2-4600-86c1-b398557a94d6"
      },
      "source": [
        "discriminator = make_discriminator_model()\n",
        "decision = discriminator(generated_image)\n",
        "print(decision)"
      ],
      "execution_count": null,
      "outputs": [
        {
          "output_type": "stream",
          "name": "stdout",
          "text": [
            "tf.Tensor([[0.0003985]], shape=(1, 1), dtype=float32)\n"
          ]
        }
      ]
    },
    {
      "cell_type": "code",
      "metadata": {
        "id": "1NzWsherfF5t"
      },
      "source": [
        "# This method returns a helper function to compute cross entropy loss\n",
        "cross_entropy = tf.keras.losses.BinaryCrossentropy(from_logits = True)"
      ],
      "execution_count": null,
      "outputs": []
    },
    {
      "cell_type": "code",
      "metadata": {
        "id": "2-YZQPAWfKLN"
      },
      "source": [
        "\"\"\"\n",
        "Discriminator Loss\n",
        "\n",
        "This method quantifies how well the discriminator is able to distinguish real images from fakes. It compares the discriminator's predicitions on real images to an array of 1s\n",
        "and the dicriminator's predicitons on fake (generated) images to an array of 0s.\n",
        "\"\"\"\n",
        "def discriminator_loss(real_output, fake_output):\n",
        "  real_loss = cross_entropy(tf.ones_like(real_output), real_output)\n",
        "  fake_loss = cross_entropy(tf.zeros_like(fake_output), fake_output)\n",
        "  total_loss = real_loss + fake_loss\n",
        "  \n",
        "  return total_loss"
      ],
      "execution_count": null,
      "outputs": []
    },
    {
      "cell_type": "code",
      "metadata": {
        "id": "k6PU2BBufLqJ"
      },
      "source": [
        "\n",
        "\"\"\"\n",
        "Generator Loss\n",
        "\n",
        "The generator's loss quantifies how well it was able to trick the discrimator. Intuitively, if the generator is performing well, the discriminator will classify the fake images as real (or 1).\n",
        "Here, we will compare the discriminators decisions on the generated images to an array of 1s.\n",
        "\"\"\"\n",
        "def generator_loss(fake_output):\n",
        "  return cross_entropy(tf.ones_like(fake_output), fake_output)"
      ],
      "execution_count": null,
      "outputs": []
    },
    {
      "cell_type": "code",
      "metadata": {
        "id": "fOWNw5ZQfNUR"
      },
      "source": [
        "\"\"\"\n",
        "The discriminator and the generator optimizers are different since we will train two networks separately.\n",
        "The Adam optimization algorithm is an extension to stochastic gradient descent.\n",
        "Stochastic gradient descent maintains a single learning rate (termed alpha) for all weight updates and the learning rate does not change during training.\n",
        "A learning rate is maintained for each network weight (parameter) and separately adapted as learning unfolds.\n",
        "\n",
        "\"\"\"\n",
        "generator_optimizer = tf.keras.optimizers.Adam(1e-4)\n",
        "discriminator_optimizer = tf.keras.optimizers.Adam(1e-4)"
      ],
      "execution_count": null,
      "outputs": []
    },
    {
      "cell_type": "code",
      "metadata": {
        "id": "aeCY98LIfO0r"
      },
      "source": [
        "checkpoint_dir = \"./training_checkpoints\"\n",
        "checkpoint_prefix = os.path.join(checkpoint_dir, \"ckpt\")\n",
        "checkpoint = tf.train.Checkpoint(generator_optimizer = generator_optimizer,\n",
        "                                 discriminator_optimizer = discriminator_optimizer,\n",
        "                                 generator = generator,\n",
        "                                 discriminator = discriminator)"
      ],
      "execution_count": null,
      "outputs": []
    },
    {
      "cell_type": "code",
      "metadata": {
        "colab": {
          "base_uri": "https://localhost:8080/"
        },
        "id": "KvJTgjR1fR6w",
        "outputId": "1f8c2cdf-b9c8-412e-ddca-363b9fc74ff9"
      },
      "source": [
        "type(generator)\n"
      ],
      "execution_count": null,
      "outputs": [
        {
          "output_type": "execute_result",
          "data": {
            "text/plain": [
              "keras.engine.sequential.Sequential"
            ]
          },
          "metadata": {},
          "execution_count": 32
        }
      ]
    },
    {
      "cell_type": "code",
      "metadata": {
        "id": "Q5iD_earfTga"
      },
      "source": [
        "##*****save generator\n",
        "generator.save_weights('./training_checkpoints/md')"
      ],
      "execution_count": null,
      "outputs": []
    },
    {
      "cell_type": "code",
      "metadata": {
        "colab": {
          "base_uri": "https://localhost:8080/"
        },
        "id": "QPt2N5PRfYGV",
        "outputId": "8f06d0d0-8b93-4a76-d1bc-0b67f86f5f30"
      },
      "source": [
        "generator1  = make_generator_model()\n",
        "generator1.load_weights('./training_checkpoints/md')"
      ],
      "execution_count": null,
      "outputs": [
        {
          "output_type": "stream",
          "name": "stdout",
          "text": [
            "(None, 64, 64, 3)\n"
          ]
        },
        {
          "output_type": "execute_result",
          "data": {
            "text/plain": [
              "<tensorflow.python.training.tracking.util.CheckpointLoadStatus at 0x7fa0ad976fd0>"
            ]
          },
          "metadata": {},
          "execution_count": 35
        }
      ]
    },
    {
      "cell_type": "code",
      "metadata": {
        "colab": {
          "base_uri": "https://localhost:8080/",
          "height": 285
        },
        "id": "QoK6mQ8efZzN",
        "outputId": "0545e574-9b56-4f05-a44e-0a0b301a7258"
      },
      "source": [
        "noise = tf.random.normal([1,100]) # shape is 1, 100\n",
        "generated_image = generator1(noise, training = False)\n",
        "\n",
        "plt.imshow(generated_image[0, :, :, 0], cmap =\"gist_rainbow\")"
      ],
      "execution_count": null,
      "outputs": [
        {
          "output_type": "execute_result",
          "data": {
            "text/plain": [
              "<matplotlib.image.AxesImage at 0x7fa0ada17f50>"
            ]
          },
          "metadata": {},
          "execution_count": 36
        },
        {
          "output_type": "display_data",
          "data": {
            "image/png": "[encoded data removed]",
            "text/plain": [
              "<Figure size 432x288 with 1 Axes>"
            ]
          },
          "metadata": {
            "needs_background": "light"
          }
        }
      ]
    },
    {
      "cell_type": "code",
      "metadata": {
        "id": "uvNCa89bfb--"
      },
      "source": [
        "EPOCHS = 60\n",
        "noise_dim = 100\n",
        "num_examples_to_generate = 8\n",
        "\n",
        "# We will reuse this seed overtime (so it's easier) to visualize progress in the animated GIF\n",
        "seed = tf.random.normal([num_examples_to_generate, noise_dim])"
      ],
      "execution_count": null,
      "outputs": []
    },
    {
      "cell_type": "code",
      "metadata": {
        "id": "pzHp0vavfi0o"
      },
      "source": [
        "\"\"\"\n",
        "The training loop begins with generator receiving a random seed as input. \n",
        "That seed is used to produce an image. The discriminator is then used to classify real images (drawn from the training set) and fakes images (produced by the generator). \n",
        "The loss is calculated for each of these models, and the gradients are used to update the generator and discriminator.\n",
        "\"\"\"\n",
        "\n",
        "# Notice the use of tf.function\n",
        "# This annotation causes the function to be \"compiled\"\n",
        "#@tf.function\n",
        "def train_step(images):\n",
        "    noise = tf.random.normal([BATCH_SIZE, noise_dim])\n",
        "    \n",
        "    # take the image links and return a cropped image\n",
        "    new_images = []\n",
        "    #print(\"here1 ...\")\n",
        "    i = 0 \n",
        "    for file_name in images:\n",
        "        print(i)\n",
        "        #print(\"Hey here\")\n",
        "        print(file_name)\n",
        "        i+=1\n",
        "        new_pic = load_image(image_directory + file_name)\n",
        "        #print(\"ok\")\n",
        "        new_images.append(new_pic)\n",
        "        #print(\"now what\")\n",
        "    \n",
        "    #print(\"here 2\")\n",
        "    images = np.array(new_images)\n",
        "    #print(\"reconfiguring complete\")\n",
        "    # Do some reshaping\n",
        "    images = images.reshape(images.shape[0], 64, 64, 3).astype('float32') # puts each number in its own numpy array so instead of [1,2,3] gonna be [[1], [2], [3]]\n",
        "    #print(\"here 3\")\n",
        "    images = (images - 127.5) / 127.5 # Normalize the images to [-1. 1] so if it was 0 --> -1 and if it was 255 --> 1\n",
        "    print(\"Normalized the data\")\n",
        "    with tf.GradientTape() as gen_tape, tf.GradientTape() as disc_tape:\n",
        "      generated_images = generator(noise, training=True)\n",
        "\n",
        "      real_output = discriminator(images, training=True)\n",
        "      fake_output = discriminator(generated_images, training=True)\n",
        "\n",
        "      gen_loss = generator_loss(fake_output)\n",
        "      disc_loss = discriminator_loss(real_output, fake_output)\n",
        "\n",
        "    gradients_of_generator = gen_tape.gradient(gen_loss, generator.trainable_variables)\n",
        "    gradients_of_discriminator = disc_tape.gradient(disc_loss, discriminator.trainable_variables)\n",
        "\n",
        "    generator_optimizer.apply_gradients(zip(gradients_of_generator, generator.trainable_variables)) # The zip() function returns an iterator of tuples based on the iterable object.\n",
        "    discriminator_optimizer.apply_gradients(zip(gradients_of_discriminator, discriminator.trainable_variables))\n",
        "    \n",
        "    # free memory!\n",
        "    images = None"
      ],
      "execution_count": null,
      "outputs": []
    },
    {
      "cell_type": "code",
      "metadata": {
        "id": "40G9cfKgfyhC"
      },
      "source": [
        "def train(dataset, epochs):  \n",
        "  for epoch in range(epochs):\n",
        "    start = time.time()\n",
        "    \n",
        "    for image_batch in dataset:\n",
        "      #print(image_batch)\n",
        "      train_step(image_batch)\n",
        "\n",
        "    # Produce images for the GIF as we go\n",
        "    display.clear_output(wait=True)\n",
        "    generate_and_save_images(generator,\n",
        "                             epoch + 1,\n",
        "                             seed)\n",
        "    \n",
        "    # Save the model every 15 epochs\n",
        "    if (epoch + 1) % 15 == 0:\n",
        "      checkpoint.save(file_prefix = checkpoint_prefix)\n",
        "    \n",
        "    print ('Time for epoch {} is {} sec'.format(epoch + 1, time.time()-start))\n",
        "    \n",
        "  # Generate after the final epoch\n",
        "  display.clear_output(wait=True)\n",
        "  generate_and_save_images(generator,\n",
        "                           epochs,\n",
        "                           seed)"
      ],
      "execution_count": null,
      "outputs": []
    },
    {
      "cell_type": "code",
      "metadata": {
        "colab": {
          "base_uri": "https://localhost:8080/",
          "height": 35
        },
        "id": "Z_jhLWi4f0vm",
        "outputId": "1a48e35a-bf36-4790-ae59-35117013e209"
      },
      "source": [
        "image_directory\n"
      ],
      "execution_count": null,
      "outputs": [
        {
          "output_type": "execute_result",
          "data": {
            "application/vnd.google.colaboratory.intrinsic+json": {
              "type": "string"
            },
            "text/plain": [
              "'/content/drive/MyDrive/Colab Notebooks/DCGAN/images/'"
            ]
          },
          "metadata": {},
          "execution_count": 36
        }
      ]
    },
    {
      "cell_type": "code",
      "metadata": {
        "id": "22ZFbts8f2d4"
      },
      "source": [
        "\n",
        "def generate_and_save_images(model, epoch, test_input):\n",
        "  # Notice `training` is set to False. \n",
        "  # This is so all layers run in inference mode (batchnorm).\n",
        "  predictions = model(test_input, training=False)\n",
        "\n",
        "  fig = plt.figure(figsize=(4,4))\n",
        "  \n",
        "  for i in range(predictions.shape[0]):\n",
        "      plt.subplot(4, 4, i+1)\n",
        "      plt.imshow(predictions[i, :, :, 0] * 127.5 + 127.5)\n",
        "      plt.axis('off')\n",
        "        \n",
        "  plt.savefig('image_at_epoch_{:04d}.png'.format(epoch), cmap =\"gist_rainbow\")\n",
        "  plt.show()"
      ],
      "execution_count": null,
      "outputs": []
    },
    {
      "cell_type": "code",
      "metadata": {
        "id": "6k5ecaBzf4yf"
      },
      "source": [
        "%%time\n",
        "train(train_images, EPOCHS)"
      ],
      "execution_count": null,
      "outputs": []
    },
    {
      "cell_type": "code",
      "metadata": {
        "id": "uz6IOO9Jrm3H"
      },
      "source": [
        "generator.save_weights('./training_checkpoints/md')"
      ],
      "execution_count": null,
      "outputs": []
    },
    {
      "cell_type": "code",
      "metadata": {
        "colab": {
          "base_uri": "https://localhost:8080/"
        },
        "id": "S3x3r8YcgKLQ",
        "outputId": "53f2b0ec-3b89-4d56-d542-02ec13269117"
      },
      "source": [
        "checkpoint.restore(tf.train.latest_checkpoint(checkpoint_dir))"
      ],
      "execution_count": null,
      "outputs": [
        {
          "output_type": "execute_result",
          "data": {
            "text/plain": [
              "<tensorflow.python.training.tracking.util.CheckpointLoadStatus at 0x7fa0acccf290>"
            ]
          },
          "metadata": {},
          "execution_count": 47
        }
      ]
    },
    {
      "cell_type": "code",
      "metadata": {
        "id": "8MinuKpygK5R"
      },
      "source": [
        "# Display a single image using the epoch number\n",
        "def display_image(epoch_no):\n",
        "  return PIL.Image.open('image_at_epoch_{:04d}.png'.format(epoch_no))"
      ],
      "execution_count": null,
      "outputs": []
    },
    {
      "cell_type": "code",
      "metadata": {
        "id": "unM9XNeqi3Z6"
      },
      "source": [
        "display_image(EPOCHS)"
      ],
      "execution_count": null,
      "outputs": []
    },
    {
      "cell_type": "code",
      "metadata": {
        "id": "fbrGiHfVi6It"
      },
      "source": [
        "with imageio.get_writer('dcgan.gif', mode='I') as writer:\n",
        "  filenames = glob.glob('image*.png')\n",
        "  filenames = sorted(filenames)\n",
        "  last = -1\n",
        "  for i,filename in enumerate(filenames):\n",
        "    frame = 2*(i**0.5)\n",
        "    if round(frame) > round(last):\n",
        "      last = frame\n",
        "    else:\n",
        "      continue\n",
        "    image = imageio.imread(filename)\n",
        "    writer.append_data(image)\n",
        "  image = imageio.imread(filename)\n",
        "  writer.append_data(image)\n",
        "    \n",
        "# A hack to display the GIF inside this notebook\n",
        "os.rename('dcgan.gif', 'dcgan.gif.png')"
      ],
      "execution_count": null,
      "outputs": []
    },
    {
      "cell_type": "code",
      "metadata": {
        "colab": {
          "base_uri": "https://localhost:8080/",
          "height": 305
        },
        "id": "Yiiqocr5DVfu",
        "outputId": "a76697ae-bb65-401f-aa46-6d1f6c7e060f"
      },
      "source": [
        "display.Image(filename=\"dcgan.gif.png\")"
      ],
      "execution_count": null,
      "outputs": [
        {
          "output_type": "execute_result",
          "data": {
            "image/png": "[encoded data removed]",
            "text/plain": [
              "<IPython.core.display.Image object>"
            ]
          },
          "metadata": {},
          "execution_count": 51
        }
      ]
    },
    {
      "cell_type": "code",
      "metadata": {
        "colab": {
          "base_uri": "https://localhost:8080/"
        },
        "id": "d_gaVYlh4yIl",
        "outputId": "6dc79945-fa6c-4a61-cb72-b80374bc9146"
      },
      "source": [
        "generator1  = make_generator_model()\n",
        "generator1.load_weights('./training_checkpoints/md')"
      ],
      "execution_count": null,
      "outputs": [
        {
          "output_type": "stream",
          "name": "stdout",
          "text": [
            "(None, 64, 64, 3)\n"
          ]
        },
        {
          "output_type": "execute_result",
          "data": {
            "text/plain": [
              "<tensorflow.python.training.tracking.util.CheckpointLoadStatus at 0x7fa0ad6e4210>"
            ]
          },
          "metadata": {},
          "execution_count": 55
        }
      ]
    },
    {
      "cell_type": "code",
      "metadata": {
        "id": "g2jbl54pQczq"
      },
      "source": [
        "seed = tf.random.normal([8, noise_dim])"
      ],
      "execution_count": null,
      "outputs": []
    },
    {
      "cell_type": "code",
      "metadata": {
        "colab": {
          "base_uri": "https://localhost:8080/",
          "height": 220
        },
        "id": "MwK39hxgDXh1",
        "outputId": "d68f62e7-c006-4583-f9a8-d1f0fa4d78c6"
      },
      "source": [
        "predictions = model(seed, training=False)\n",
        "\n",
        "\n",
        "fig = plt.figure(figsize=(16,16))\n",
        "\n",
        "for i in range(predictions.shape[0]):\n",
        "    plt.subplot(4, 4, i+1)\n",
        "    plt.imshow(predictions[i, :, :, 0] * 127.5 + 127.5,cmap = 'gray')\n",
        "    plt.axis('off')"
      ],
      "execution_count": null,
      "outputs": [
        {
          "output_type": "display_data",
          "data": {
            "image/png": "[encoded data removed]",
            "text/plain": [
              "<Figure size 1152x1152 with 1 Axes>"
            ]
          },
          "metadata": {
            "needs_background": "light"
          }
        }
      ]
    }
  ]
}